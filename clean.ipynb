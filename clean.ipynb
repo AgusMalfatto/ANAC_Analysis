{
 "cells": [
  {
   "cell_type": "code",
   "execution_count": 34,
   "metadata": {},
   "outputs": [],
   "source": [
    "# Importing libraries\n",
    "import pandas as pd\n",
    "import warnings\n",
    "import os\n",
    "\n",
    "# Set warnings off\n",
    "warnings.filterwarnings(\"ignore\")"
   ]
  },
  {
   "cell_type": "markdown",
   "metadata": {},
   "source": [
    "Data Cleaning"
   ]
  },
  {
   "cell_type": "code",
   "execution_count": 3,
   "metadata": {},
   "outputs": [],
   "source": [
    "df = pd.read_csv('Data_FeatureFinish.csv')"
   ]
  },
  {
   "cell_type": "code",
   "execution_count": 4,
   "metadata": {},
   "outputs": [
    {
     "data": {
      "text/html": [
       "<div>\n",
       "<style scoped>\n",
       "    .dataframe tbody tr th:only-of-type {\n",
       "        vertical-align: middle;\n",
       "    }\n",
       "\n",
       "    .dataframe tbody tr th {\n",
       "        vertical-align: top;\n",
       "    }\n",
       "\n",
       "    .dataframe thead th {\n",
       "        text-align: right;\n",
       "    }\n",
       "</style>\n",
       "<table border=\"1\" class=\"dataframe\">\n",
       "  <thead>\n",
       "    <tr style=\"text-align: right;\">\n",
       "      <th></th>\n",
       "      <th>Fecha</th>\n",
       "      <th>Hora</th>\n",
       "      <th>Clase de Vuelo</th>\n",
       "      <th>Clasificación Vuelo</th>\n",
       "      <th>Tipo Movimiento</th>\n",
       "      <th>Aeropuerto</th>\n",
       "      <th>Origen/Destino</th>\n",
       "      <th>Aerolinea Nombre</th>\n",
       "      <th>Aeronave</th>\n",
       "      <th>Pasajeros</th>\n",
       "      <th>PAX</th>\n",
       "      <th>Calidad dato</th>\n",
       "    </tr>\n",
       "  </thead>\n",
       "  <tbody>\n",
       "    <tr>\n",
       "      <th>0</th>\n",
       "      <td>1/1/2019</td>\n",
       "      <td>00:01:00</td>\n",
       "      <td>REGULAR</td>\n",
       "      <td>Doméstico</td>\n",
       "      <td>Aterrizaje</td>\n",
       "      <td>EZE</td>\n",
       "      <td>SAL</td>\n",
       "      <td>AEROLINEAS ARGENTINAS SA</td>\n",
       "      <td>BO-B-737-76N</td>\n",
       "      <td>88</td>\n",
       "      <td>44</td>\n",
       "      <td>DEFINITIVO</td>\n",
       "    </tr>\n",
       "    <tr>\n",
       "      <th>1</th>\n",
       "      <td>1/1/2019</td>\n",
       "      <td>00:01:00</td>\n",
       "      <td>REGULAR</td>\n",
       "      <td>Internacional</td>\n",
       "      <td>Aterrizaje</td>\n",
       "      <td>EZE</td>\n",
       "      <td>SBGL</td>\n",
       "      <td>TRANSPORTES AEREOS DEL MERCOSUR</td>\n",
       "      <td>NaN</td>\n",
       "      <td>165</td>\n",
       "      <td>165</td>\n",
       "      <td>DEFINITIVO</td>\n",
       "    </tr>\n",
       "    <tr>\n",
       "      <th>2</th>\n",
       "      <td>1/1/2019</td>\n",
       "      <td>00:03:00</td>\n",
       "      <td>REGULAR</td>\n",
       "      <td>Doméstico</td>\n",
       "      <td>Aterrizaje</td>\n",
       "      <td>AER</td>\n",
       "      <td>SIS</td>\n",
       "      <td>AUSTRAL LINEAS AEREAS-CIELOS DEL SUR S.A</td>\n",
       "      <td>EMB-ERJ190100IGW</td>\n",
       "      <td>22</td>\n",
       "      <td>11</td>\n",
       "      <td>DEFINITIVO</td>\n",
       "    </tr>\n",
       "    <tr>\n",
       "      <th>3</th>\n",
       "      <td>1/1/2019</td>\n",
       "      <td>00:04:00</td>\n",
       "      <td>REGULAR</td>\n",
       "      <td>Internacional</td>\n",
       "      <td>Aterrizaje</td>\n",
       "      <td>EZE</td>\n",
       "      <td>SBGR</td>\n",
       "      <td>TRANSPORTES AEREOS DEL MERCOSUR</td>\n",
       "      <td>NaN</td>\n",
       "      <td>69</td>\n",
       "      <td>69</td>\n",
       "      <td>DEFINITIVO</td>\n",
       "    </tr>\n",
       "    <tr>\n",
       "      <th>4</th>\n",
       "      <td>1/1/2019</td>\n",
       "      <td>00:06:00</td>\n",
       "      <td>REGULAR</td>\n",
       "      <td>Internacional</td>\n",
       "      <td>Aterrizaje</td>\n",
       "      <td>AER</td>\n",
       "      <td>SBGR</td>\n",
       "      <td>LAN ARGENTINA S.A. (LATAM AIRLINES)</td>\n",
       "      <td>AIB-A-320-233</td>\n",
       "      <td>53</td>\n",
       "      <td>53</td>\n",
       "      <td>DEFINITIVO</td>\n",
       "    </tr>\n",
       "  </tbody>\n",
       "</table>\n",
       "</div>"
      ],
      "text/plain": [
       "      Fecha      Hora Clase de Vuelo Clasificación Vuelo Tipo Movimiento  \\\n",
       "0  1/1/2019  00:01:00        REGULAR           Doméstico      Aterrizaje   \n",
       "1  1/1/2019  00:01:00        REGULAR       Internacional      Aterrizaje   \n",
       "2  1/1/2019  00:03:00        REGULAR           Doméstico      Aterrizaje   \n",
       "3  1/1/2019  00:04:00        REGULAR       Internacional      Aterrizaje   \n",
       "4  1/1/2019  00:06:00        REGULAR       Internacional      Aterrizaje   \n",
       "\n",
       "  Aeropuerto Origen/Destino                          Aerolinea Nombre  \\\n",
       "0        EZE            SAL                  AEROLINEAS ARGENTINAS SA   \n",
       "1        EZE           SBGL           TRANSPORTES AEREOS DEL MERCOSUR   \n",
       "2        AER            SIS  AUSTRAL LINEAS AEREAS-CIELOS DEL SUR S.A   \n",
       "3        EZE           SBGR           TRANSPORTES AEREOS DEL MERCOSUR   \n",
       "4        AER           SBGR       LAN ARGENTINA S.A. (LATAM AIRLINES)   \n",
       "\n",
       "           Aeronave  Pasajeros  PAX Calidad dato  \n",
       "0      BO-B-737-76N         88   44   DEFINITIVO  \n",
       "1               NaN        165  165   DEFINITIVO  \n",
       "2  EMB-ERJ190100IGW         22   11   DEFINITIVO  \n",
       "3               NaN         69   69   DEFINITIVO  \n",
       "4     AIB-A-320-233         53   53   DEFINITIVO  "
      ]
     },
     "execution_count": 4,
     "metadata": {},
     "output_type": "execute_result"
    }
   ],
   "source": [
    "df.head()"
   ]
  },
  {
   "cell_type": "code",
   "execution_count": 5,
   "metadata": {},
   "outputs": [
    {
     "data": {
      "text/plain": [
       "Index(['Fecha', 'Hora', 'Clase de Vuelo', 'Clasificación Vuelo',\n",
       "       'Tipo Movimiento', 'Aeropuerto', 'Origen/Destino', 'Aerolinea Nombre',\n",
       "       'Aeronave', 'Pasajeros', 'PAX', 'Calidad dato'],\n",
       "      dtype='object')"
      ]
     },
     "execution_count": 5,
     "metadata": {},
     "output_type": "execute_result"
    }
   ],
   "source": [
    "df.columns"
   ]
  },
  {
   "cell_type": "code",
   "execution_count": 6,
   "metadata": {},
   "outputs": [
    {
     "name": "stdout",
     "output_type": "stream",
     "text": [
      "Unique values for the column: Clase de Vuelo\n",
      "['REGULAR' 'VUELOS PRIVADOS NACIONALES' 'VUELOS OFICIALES NACIONALES'\n",
      " 'NO REGULAR' 'VUELOS PRIVADO CON MATRICULA EXTRANJERA' 'TRABAJO AEREO'\n",
      " 'VUELOS DE ADIESTRAMIENTO' 'VUELOS ESCUELA'\n",
      " 'VUELOS OFICIALES EXTRANJEROS' 'ESCUELA (NO VIGENTE)' 'Regular'\n",
      " 'Vuelo Privado con Matrícula Nacional' 'No Regular'\n",
      " 'Vuelo Privado con Matrícula Extranjera' 'Trabajo Aéreo'\n",
      " 'Vuelo de Adiestramiento' 'Vuelo Oficial Extranjero'\n",
      " 'Vuelo Oficial Nacional' 'Vuelo Escuela']\n",
      "\n",
      "************************************************************************\n",
      "\n",
      "Unique values for the column: Clasificación Vuelo\n",
      "['Doméstico' 'Internacional' 'Dom' 'Inter']\n",
      "\n",
      "************************************************************************\n",
      "\n",
      "Unique values for the column: Tipo Movimiento\n",
      "['Aterrizaje' 'Despegue' nan]\n",
      "\n",
      "************************************************************************\n",
      "\n",
      "Unique values for the column: Calidad dato\n",
      "['DEFINITIVO' 'PROVISORIO']\n",
      "\n",
      "************************************************************************\n",
      "\n"
     ]
    }
   ],
   "source": [
    "# Columns to analyze\n",
    "columns = ['Clase de Vuelo', 'Clasificación Vuelo', 'Tipo Movimiento', 'Calidad dato']\n",
    "\n",
    "# Checking the unique values of each column\n",
    "for column in columns:\n",
    "    print(f'Unique values for the column: {column}')\n",
    "    print(df[column].unique())\n",
    "\n",
    "    print('\\n************************************************************************\\n')"
   ]
  },
  {
   "cell_type": "code",
   "execution_count": 7,
   "metadata": {},
   "outputs": [],
   "source": [
    "# Recoding the values of column 'Clase de Vuelo'\n",
    "df['Clase de Vuelo'] = df['Clase de Vuelo'].str.capitalize()"
   ]
  },
  {
   "cell_type": "code",
   "execution_count": 8,
   "metadata": {},
   "outputs": [
    {
     "data": {
      "text/plain": [
       "array(['Regular', 'Vuelos privados nacionales',\n",
       "       'Vuelos oficiales nacionales', 'No regular',\n",
       "       'Vuelos privado con matricula extranjera', 'Trabajo aereo',\n",
       "       'Vuelos de adiestramiento', 'Vuelos escuela',\n",
       "       'Vuelos oficiales extranjeros', 'Escuela (no vigente)',\n",
       "       'Vuelo privado con matrícula nacional',\n",
       "       'Vuelo privado con matrícula extranjera', 'Trabajo aéreo',\n",
       "       'Vuelo de adiestramiento', 'Vuelo oficial extranjero',\n",
       "       'Vuelo oficial nacional', 'Vuelo escuela'], dtype=object)"
      ]
     },
     "execution_count": 8,
     "metadata": {},
     "output_type": "execute_result"
    }
   ],
   "source": [
    "df['Clase de Vuelo'].unique()"
   ]
  },
  {
   "cell_type": "code",
   "execution_count": 9,
   "metadata": {},
   "outputs": [],
   "source": [
    "# Define how the values are going to change\n",
    "fligth_class = {\n",
    "    'Vuelos privados nacionales': 'Vuelo privado nacional',\n",
    "    'Vuelos oficiales nacionales': 'Vuelo oficial nacional',\n",
    "    'Vuelos privado con matricula extranjera': 'Vuelo privado con matrícula extranjera',\n",
    "    'Trabajo aereo': 'Trabajo aéreo',\n",
    "    'Vuelos de adiestramiento': 'Vuelo de adiestramiento',\n",
    "    'Vuelos escuela': 'Vuelo escuela',\n",
    "    'Vuelos oficiales extranjeros': 'Vuelo oficial extranjero'\n",
    "}\n",
    "\n",
    "# Replacing the values\n",
    "df['Clase de Vuelo'].replace(fligth_class, inplace=True)"
   ]
  },
  {
   "cell_type": "code",
   "execution_count": 10,
   "metadata": {},
   "outputs": [],
   "source": [
    "# Replacing the values of column 'Clasificación Vuelo'\n",
    "df['Clasificación Vuelo'] = df['Clasificación Vuelo'].replace({\n",
    "    'Dom': 'Doméstico',\n",
    "    'Inter': 'Internacional'\n",
    "})"
   ]
  },
  {
   "cell_type": "code",
   "execution_count": 11,
   "metadata": {},
   "outputs": [
    {
     "name": "stdout",
     "output_type": "stream",
     "text": [
      "Unique values for the column: Clase de Vuelo\n",
      "['Regular' 'Vuelo privado nacional' 'Vuelo oficial nacional' 'No regular'\n",
      " 'Vuelo privado con matrícula extranjera' 'Trabajo aéreo'\n",
      " 'Vuelo de adiestramiento' 'Vuelo escuela' 'Vuelo oficial extranjero'\n",
      " 'Escuela (no vigente)' 'Vuelo privado con matrícula nacional']\n",
      "\n",
      "************************************************************************\n",
      "\n",
      "Unique values for the column: Clasificación Vuelo\n",
      "['Doméstico' 'Internacional']\n",
      "\n",
      "************************************************************************\n",
      "\n",
      "Unique values for the column: Tipo Movimiento\n",
      "['Aterrizaje' 'Despegue' nan]\n",
      "\n",
      "************************************************************************\n",
      "\n",
      "Unique values for the column: Calidad dato\n",
      "['DEFINITIVO' 'PROVISORIO']\n",
      "\n",
      "************************************************************************\n",
      "\n"
     ]
    }
   ],
   "source": [
    "# Checking the unique values of each column\n",
    "for column in columns:\n",
    "    print(f'Unique values for the column: {column}')\n",
    "    print(df[column].unique())\n",
    "\n",
    "    print('\\n************************************************************************\\n')"
   ]
  },
  {
   "cell_type": "code",
   "execution_count": 12,
   "metadata": {},
   "outputs": [],
   "source": [
    "data_columns = []\n",
    "\n",
    "for column in columns:\n",
    "    data_column = df.groupby(by=column).size().reset_index().sort_values(by=0, ascending=False).rename(columns={0:'Quantity'})\n",
    "    data_columns.append(data_column)"
   ]
  },
  {
   "cell_type": "code",
   "execution_count": 13,
   "metadata": {},
   "outputs": [
    {
     "data": {
      "text/html": [
       "<div>\n",
       "<style scoped>\n",
       "    .dataframe tbody tr th:only-of-type {\n",
       "        vertical-align: middle;\n",
       "    }\n",
       "\n",
       "    .dataframe tbody tr th {\n",
       "        vertical-align: top;\n",
       "    }\n",
       "\n",
       "    .dataframe thead th {\n",
       "        text-align: right;\n",
       "    }\n",
       "</style>\n",
       "<table border=\"1\" class=\"dataframe\">\n",
       "  <thead>\n",
       "    <tr style=\"text-align: right;\">\n",
       "      <th></th>\n",
       "      <th>Clase de Vuelo</th>\n",
       "      <th>Quantity</th>\n",
       "    </tr>\n",
       "  </thead>\n",
       "  <tbody>\n",
       "    <tr>\n",
       "      <th>2</th>\n",
       "      <td>Regular</td>\n",
       "      <td>1162018</td>\n",
       "    </tr>\n",
       "    <tr>\n",
       "      <th>5</th>\n",
       "      <td>Vuelo escuela</td>\n",
       "      <td>289055</td>\n",
       "    </tr>\n",
       "    <tr>\n",
       "      <th>9</th>\n",
       "      <td>Vuelo privado con matrícula nacional</td>\n",
       "      <td>272590</td>\n",
       "    </tr>\n",
       "    <tr>\n",
       "      <th>1</th>\n",
       "      <td>No regular</td>\n",
       "      <td>173950</td>\n",
       "    </tr>\n",
       "    <tr>\n",
       "      <th>7</th>\n",
       "      <td>Vuelo oficial nacional</td>\n",
       "      <td>139675</td>\n",
       "    </tr>\n",
       "    <tr>\n",
       "      <th>10</th>\n",
       "      <td>Vuelo privado nacional</td>\n",
       "      <td>72277</td>\n",
       "    </tr>\n",
       "    <tr>\n",
       "      <th>4</th>\n",
       "      <td>Vuelo de adiestramiento</td>\n",
       "      <td>19335</td>\n",
       "    </tr>\n",
       "    <tr>\n",
       "      <th>8</th>\n",
       "      <td>Vuelo privado con matrícula extranjera</td>\n",
       "      <td>16722</td>\n",
       "    </tr>\n",
       "    <tr>\n",
       "      <th>3</th>\n",
       "      <td>Trabajo aéreo</td>\n",
       "      <td>8724</td>\n",
       "    </tr>\n",
       "    <tr>\n",
       "      <th>6</th>\n",
       "      <td>Vuelo oficial extranjero</td>\n",
       "      <td>1526</td>\n",
       "    </tr>\n",
       "    <tr>\n",
       "      <th>0</th>\n",
       "      <td>Escuela (no vigente)</td>\n",
       "      <td>1</td>\n",
       "    </tr>\n",
       "  </tbody>\n",
       "</table>\n",
       "</div>"
      ],
      "text/plain": [
       "                            Clase de Vuelo  Quantity\n",
       "2                                  Regular   1162018\n",
       "5                            Vuelo escuela    289055\n",
       "9     Vuelo privado con matrícula nacional    272590\n",
       "1                               No regular    173950\n",
       "7                   Vuelo oficial nacional    139675\n",
       "10                  Vuelo privado nacional     72277\n",
       "4                  Vuelo de adiestramiento     19335\n",
       "8   Vuelo privado con matrícula extranjera     16722\n",
       "3                            Trabajo aéreo      8724\n",
       "6                 Vuelo oficial extranjero      1526\n",
       "0                     Escuela (no vigente)         1"
      ]
     },
     "execution_count": 13,
     "metadata": {},
     "output_type": "execute_result"
    }
   ],
   "source": [
    "data_columns[0]"
   ]
  },
  {
   "cell_type": "code",
   "execution_count": 14,
   "metadata": {},
   "outputs": [],
   "source": [
    "# Delete the register with the value 'Escuela (no vigente)'\n",
    "df = df[df['Clase de Vuelo'] != 'Escuela (no vigente)']"
   ]
  },
  {
   "cell_type": "code",
   "execution_count": 15,
   "metadata": {},
   "outputs": [],
   "source": [
    "data_columns = []\n",
    "\n",
    "for column in columns:\n",
    "    data_column = df.groupby(by=column).size().reset_index().sort_values(by=0, ascending=False).rename(columns={0:'Quantity'})\n",
    "    data_columns.append(data_column)"
   ]
  },
  {
   "cell_type": "code",
   "execution_count": 16,
   "metadata": {},
   "outputs": [
    {
     "data": {
      "text/html": [
       "<div>\n",
       "<style scoped>\n",
       "    .dataframe tbody tr th:only-of-type {\n",
       "        vertical-align: middle;\n",
       "    }\n",
       "\n",
       "    .dataframe tbody tr th {\n",
       "        vertical-align: top;\n",
       "    }\n",
       "\n",
       "    .dataframe thead th {\n",
       "        text-align: right;\n",
       "    }\n",
       "</style>\n",
       "<table border=\"1\" class=\"dataframe\">\n",
       "  <thead>\n",
       "    <tr style=\"text-align: right;\">\n",
       "      <th></th>\n",
       "      <th>Clase de Vuelo</th>\n",
       "      <th>Quantity</th>\n",
       "    </tr>\n",
       "  </thead>\n",
       "  <tbody>\n",
       "    <tr>\n",
       "      <th>1</th>\n",
       "      <td>Regular</td>\n",
       "      <td>1162018</td>\n",
       "    </tr>\n",
       "    <tr>\n",
       "      <th>4</th>\n",
       "      <td>Vuelo escuela</td>\n",
       "      <td>289055</td>\n",
       "    </tr>\n",
       "    <tr>\n",
       "      <th>8</th>\n",
       "      <td>Vuelo privado con matrícula nacional</td>\n",
       "      <td>272590</td>\n",
       "    </tr>\n",
       "    <tr>\n",
       "      <th>0</th>\n",
       "      <td>No regular</td>\n",
       "      <td>173950</td>\n",
       "    </tr>\n",
       "    <tr>\n",
       "      <th>6</th>\n",
       "      <td>Vuelo oficial nacional</td>\n",
       "      <td>139675</td>\n",
       "    </tr>\n",
       "    <tr>\n",
       "      <th>9</th>\n",
       "      <td>Vuelo privado nacional</td>\n",
       "      <td>72277</td>\n",
       "    </tr>\n",
       "    <tr>\n",
       "      <th>3</th>\n",
       "      <td>Vuelo de adiestramiento</td>\n",
       "      <td>19335</td>\n",
       "    </tr>\n",
       "    <tr>\n",
       "      <th>7</th>\n",
       "      <td>Vuelo privado con matrícula extranjera</td>\n",
       "      <td>16722</td>\n",
       "    </tr>\n",
       "    <tr>\n",
       "      <th>2</th>\n",
       "      <td>Trabajo aéreo</td>\n",
       "      <td>8724</td>\n",
       "    </tr>\n",
       "    <tr>\n",
       "      <th>5</th>\n",
       "      <td>Vuelo oficial extranjero</td>\n",
       "      <td>1526</td>\n",
       "    </tr>\n",
       "  </tbody>\n",
       "</table>\n",
       "</div>"
      ],
      "text/plain": [
       "                           Clase de Vuelo  Quantity\n",
       "1                                 Regular   1162018\n",
       "4                           Vuelo escuela    289055\n",
       "8    Vuelo privado con matrícula nacional    272590\n",
       "0                              No regular    173950\n",
       "6                  Vuelo oficial nacional    139675\n",
       "9                  Vuelo privado nacional     72277\n",
       "3                 Vuelo de adiestramiento     19335\n",
       "7  Vuelo privado con matrícula extranjera     16722\n",
       "2                           Trabajo aéreo      8724\n",
       "5                Vuelo oficial extranjero      1526"
      ]
     },
     "execution_count": 16,
     "metadata": {},
     "output_type": "execute_result"
    }
   ],
   "source": [
    "# Checking the frequency of each value from the column 'Clase de Vuelo'\n",
    "data_columns[0]"
   ]
  },
  {
   "cell_type": "code",
   "execution_count": 17,
   "metadata": {},
   "outputs": [
    {
     "data": {
      "text/html": [
       "<div>\n",
       "<style scoped>\n",
       "    .dataframe tbody tr th:only-of-type {\n",
       "        vertical-align: middle;\n",
       "    }\n",
       "\n",
       "    .dataframe tbody tr th {\n",
       "        vertical-align: top;\n",
       "    }\n",
       "\n",
       "    .dataframe thead th {\n",
       "        text-align: right;\n",
       "    }\n",
       "</style>\n",
       "<table border=\"1\" class=\"dataframe\">\n",
       "  <thead>\n",
       "    <tr style=\"text-align: right;\">\n",
       "      <th></th>\n",
       "      <th>Clasificación Vuelo</th>\n",
       "      <th>Quantity</th>\n",
       "    </tr>\n",
       "  </thead>\n",
       "  <tbody>\n",
       "    <tr>\n",
       "      <th>0</th>\n",
       "      <td>Doméstico</td>\n",
       "      <td>1799863</td>\n",
       "    </tr>\n",
       "    <tr>\n",
       "      <th>1</th>\n",
       "      <td>Internacional</td>\n",
       "      <td>356009</td>\n",
       "    </tr>\n",
       "  </tbody>\n",
       "</table>\n",
       "</div>"
      ],
      "text/plain": [
       "  Clasificación Vuelo  Quantity\n",
       "0           Doméstico   1799863\n",
       "1       Internacional    356009"
      ]
     },
     "execution_count": 17,
     "metadata": {},
     "output_type": "execute_result"
    }
   ],
   "source": [
    "# Checking the values for the column 'Clasificación Vuelo'\n",
    "data_columns[1]"
   ]
  },
  {
   "cell_type": "code",
   "execution_count": 18,
   "metadata": {},
   "outputs": [
    {
     "data": {
      "text/html": [
       "<div>\n",
       "<style scoped>\n",
       "    .dataframe tbody tr th:only-of-type {\n",
       "        vertical-align: middle;\n",
       "    }\n",
       "\n",
       "    .dataframe tbody tr th {\n",
       "        vertical-align: top;\n",
       "    }\n",
       "\n",
       "    .dataframe thead th {\n",
       "        text-align: right;\n",
       "    }\n",
       "</style>\n",
       "<table border=\"1\" class=\"dataframe\">\n",
       "  <thead>\n",
       "    <tr style=\"text-align: right;\">\n",
       "      <th></th>\n",
       "      <th>Tipo Movimiento</th>\n",
       "      <th>Quantity</th>\n",
       "    </tr>\n",
       "  </thead>\n",
       "  <tbody>\n",
       "    <tr>\n",
       "      <th>1</th>\n",
       "      <td>Despegue</td>\n",
       "      <td>1086137</td>\n",
       "    </tr>\n",
       "    <tr>\n",
       "      <th>0</th>\n",
       "      <td>Aterrizaje</td>\n",
       "      <td>1069732</td>\n",
       "    </tr>\n",
       "  </tbody>\n",
       "</table>\n",
       "</div>"
      ],
      "text/plain": [
       "  Tipo Movimiento  Quantity\n",
       "1        Despegue   1086137\n",
       "0      Aterrizaje   1069732"
      ]
     },
     "execution_count": 18,
     "metadata": {},
     "output_type": "execute_result"
    }
   ],
   "source": [
    "# Checking the values for the column 'Tipo Movimiento'\n",
    "data_columns[2]"
   ]
  },
  {
   "cell_type": "code",
   "execution_count": 19,
   "metadata": {},
   "outputs": [
    {
     "data": {
      "text/html": [
       "<div>\n",
       "<style scoped>\n",
       "    .dataframe tbody tr th:only-of-type {\n",
       "        vertical-align: middle;\n",
       "    }\n",
       "\n",
       "    .dataframe tbody tr th {\n",
       "        vertical-align: top;\n",
       "    }\n",
       "\n",
       "    .dataframe thead th {\n",
       "        text-align: right;\n",
       "    }\n",
       "</style>\n",
       "<table border=\"1\" class=\"dataframe\">\n",
       "  <thead>\n",
       "    <tr style=\"text-align: right;\">\n",
       "      <th></th>\n",
       "      <th>Calidad dato</th>\n",
       "      <th>Quantity</th>\n",
       "    </tr>\n",
       "  </thead>\n",
       "  <tbody>\n",
       "    <tr>\n",
       "      <th>0</th>\n",
       "      <td>DEFINITIVO</td>\n",
       "      <td>2075202</td>\n",
       "    </tr>\n",
       "    <tr>\n",
       "      <th>1</th>\n",
       "      <td>PROVISORIO</td>\n",
       "      <td>80670</td>\n",
       "    </tr>\n",
       "  </tbody>\n",
       "</table>\n",
       "</div>"
      ],
      "text/plain": [
       "  Calidad dato  Quantity\n",
       "0   DEFINITIVO   2075202\n",
       "1   PROVISORIO     80670"
      ]
     },
     "execution_count": 19,
     "metadata": {},
     "output_type": "execute_result"
    }
   ],
   "source": [
    "# Checking the values for the column 'Calidad dato'\n",
    "data_columns[3]"
   ]
  },
  {
   "cell_type": "markdown",
   "metadata": {},
   "source": [
    "Fixing NaN Values"
   ]
  },
  {
   "cell_type": "code",
   "execution_count": 20,
   "metadata": {},
   "outputs": [
    {
     "data": {
      "text/plain": [
       "Fecha                       0\n",
       "Hora                        0\n",
       "Clase de Vuelo              0\n",
       "Clasificación Vuelo         0\n",
       "Tipo Movimiento             3\n",
       "Aeropuerto                  0\n",
       "Origen/Destino              3\n",
       "Aerolinea Nombre       182406\n",
       "Aeronave                91661\n",
       "Pasajeros                   0\n",
       "PAX                         0\n",
       "Calidad dato                0\n",
       "dtype: int64"
      ]
     },
     "execution_count": 20,
     "metadata": {},
     "output_type": "execute_result"
    }
   ],
   "source": [
    "# Checking the NaN values\n",
    "df.isna().sum()"
   ]
  },
  {
   "cell_type": "code",
   "execution_count": 21,
   "metadata": {},
   "outputs": [],
   "source": [
    "# Delete NaN Values from 'Tipo Movimiento' and 'Origen/Destino' which are the same registers.\n",
    "df = df[~df['Tipo Movimiento'].isna()]"
   ]
  },
  {
   "cell_type": "code",
   "execution_count": 22,
   "metadata": {},
   "outputs": [
    {
     "data": {
      "text/plain": [
       "Fecha                       0\n",
       "Hora                        0\n",
       "Clase de Vuelo              0\n",
       "Clasificación Vuelo         0\n",
       "Tipo Movimiento             0\n",
       "Aeropuerto                  0\n",
       "Origen/Destino              0\n",
       "Aerolinea Nombre       182404\n",
       "Aeronave                91661\n",
       "Pasajeros                   0\n",
       "PAX                         0\n",
       "Calidad dato                0\n",
       "dtype: int64"
      ]
     },
     "execution_count": 22,
     "metadata": {},
     "output_type": "execute_result"
    }
   ],
   "source": [
    "# Checking the NaN values\n",
    "df.isna().sum()"
   ]
  },
  {
   "cell_type": "code",
   "execution_count": 23,
   "metadata": {},
   "outputs": [
    {
     "name": "stdout",
     "output_type": "stream",
     "text": [
      "{'PA-PA-28-180': 'HANGAR UNO', 'RQ-RANQUEL': 'AERORUTAS S.A. DE TRANSP. AER.', 'PA-PA-22': 'AERO CLUB EL BOLSON', 'CAM-SWIFT': 'FB LÍNEAS AÉREAS - FLYBONDI', 'TEA-P2002-JF': 'FLYING TIME', 'BO-PT-17-A-75N1': 'FB LÍNEAS AÉREAS - FLYBONDI', 'MN-MONOPLANO': 'FB LÍNEAS AÉREAS - FLYBONDI', 'BE-G36': 'PRO FLIGHT ACADEMY SRL', 'CE-177-B': 'EV S.R.L', 'BO-B767-316': 'LAN ARGENTINA S.A. (LATAM AIRLINES)', 'BO-737-86J': 'FB LÍNEAS AÉREAS - FLYBONDI', 'CE-150': 'AERO CLUB SAN RAFAEL', 'AIB-A-320-233': 'LAN ARGENTINA S.A. (LATAM AIRLINES)', 'ARH-EC155B1': 'ESC.FEDERAL DE AVIACION POLICIAL', 'BE-C-50': 'AEROLINEAS ARGENTINAS SA', 'TEA-P92-JS': 'JETSMART AIRLINES S.A.', 'CE-310-I': 'ELCOMEL SRL', 'MT-MU-2B-60': 'TWR SRL', 'EMB-EMB-145LR': 'AMERICAN JET S.A.', 'CE-152-II': 'TWR SRL', 'BE-A36TC': 'FLYEST LINEAS AEREAS', 'BE-C-18-S': 'AEROTAX SOCIEDAD ANONIMA (PARAGUAY)', 'CE-182-G': 'D.G.A.C. SANTIAGO DEL ESTERO', 'CE-172-E': 'INSTITUTO SUPERIOR AERONAUTICO', 'LO-1649-A': 'FB LÍNEAS AÉREAS - FLYBONDI', 'CE-172': 'AERO CLUB VIEDMA', 'BO-B-737-7SV': 'AEROLINEAS ARGENTINAS SA', 'TEA-P2002 SIERRA': 'FLY UP S.R.L', 'DAS-FALCON 7X': 'JETSMART AIRLINES S.A.', 'EXP-EXPRESS CT': 'SANABRIA, IGNACIO', 'CE-182-Q': 'AGRISAT S.A.', 'BE-BARON 58': 'POLICIA DE LA CIUDAD DE BUENOS AIRES', 'TEA-P92 ECHO MKII': 'SMART FLIGHT S.A', 'TXA-525': 'AMERIFLIGHT S.A.', 'CE-182-P': 'AEROLINEAS ARGENTINAS SA', 'EUR-MBB-BK-117C2': 'ESC.FEDERAL DE AVIACION POLICIAL', 'LJ-31-A': 'AERORUTAS S.A. DE TRANSP. AER.', 'AE-7-FC': 'AEROLINEAS ARGENTINAS SA', 'PI-PC-12-47E': 'QUILQUE S.A.', 'CE-208': 'ROTOR S.A.', 'BO-B737-8BK': 'AEROLINEAS ARGENTINAS SA', 'BO-B-75-N1': 'FB LÍNEAS AÉREAS - FLYBONDI', 'RW-690': 'CIELOS MEDITERRÁNEOS S.A.', 'AB-115': 'DOS MIL AEROSISTEMA S.A.', 'BO-737-800': 'AEROLINEAS ARGENTINAS SA', 'EUR-BO-105-CBS4': 'AEROLINEAS ARGENTINAS SA', 'LJ-25-D': 'DOS MIL AEROSISTEMA S.A.', 'PT-S1-11B': 'MALATINI JORGE MARIO', 'ARH-MBB-BK117 D-2': 'ESC.FEDERAL DE AVIACION POLICIAL', 'PA-PA-31': 'AAXOD S.A', 'CE-210-C': 'AAXOD S.A', 'EL-407': 'FENIX AVIACION S.A.', 'AIR-AT-401': 'AEROLINEAS ARGENTINAS SA', 'PAA-PA-A-28R201T': 'ECHO VICTOR', 'CE-150-J': 'CWO S.A. - SUN FLIGHT', 'RAY-800XP': 'AERONAUTICA S.A.', 'BO-737-8HX': 'AEROLINEAS ARGENTINAS SA', 'CE-A-188-B': 'AEROLINEAS ARGENTINAS SA', 'CE-210-B': 'JETSMART AIRLINES S.A.', 'PA-PA-18-150': 'FB LÍNEAS AÉREAS - FLYBONDI', 'BEL-505': 'SUNDOWN JET S.A.', 'BE-B-200': 'AEROVIDA S.A.', 'CE-525B': 'JET AVIATION', 'ADG-MBB-BK-117C2': 'HELICÓPTEROS MARINOS S.A.', 'TSA-S2R-T34': 'AEROLINEAS ARGENTINAS SA', 'CE-150-G': 'CWO S.A. - SUN FLIGHT', 'RW-DARTER-100': 'VOLAR', 'CIR-SR20': 'DELTA PLANE S.R L.', 'BE-35-B33': 'AEROLINEAS ARGENTINAS SA', 'CE-T-210-N': 'AEROLINEAS ARGENTINAS SA', 'PA-J-3C-65': 'AEROLINEAS ARGENTINAS SA', 'AET-601-P': 'DECKER RAUL OMAR', 'PAA-PA-A-28-140': 'AERO CLUB PATAGONES', 'EX-EA-300-L': 'AEROLINEAS ARGENTINAS SA', 'AIR-AT-502-B': 'AEROLINEAS ARGENTINAS SA', 'BE-58': 'AEROLINEAS ARGENTINAS SA', 'TEA-P2008': 'AEROTEC ARGENTINA S.A.', 'SBB-340-A': 'AEROLINEAS ARGENTINAS SA', 'STA-STANDARD': 'EV S.R.L', 'CE-500': 'ESC.FEDERAL DE AVIACION POLICIAL', 'PA-PA-36-285': 'FB LÍNEAS AÉREAS - FLYBONDI', 'HAB-B-200-GT': 'AERONAUTICA S.A.', 'BE-C90GTI': 'AEROLINEAS ARGENTINAS SA', 'TEA-P2002': 'RADIAL 340 S.A.S.', 'CE-560-XI': 'JUST FLIGHT  \"ROYAL CLASS\"', 'LJ-25-C': 'DOS MIL AEROSISTEMA S.A.', 'PA-J-3C': 'ALPHACENTAURI S.A.', 'LAV-PA-25-235': 'AEROLINEAS ARGENTINAS SA', 'FA-SA-227-DC': 'AMERICAN JET S.A.', 'HAB-G-36': 'FB LÍNEAS AÉREAS - FLYBONDI', 'RW-500-U': 'BAIRES FLY SA', 'HI-UH-12-E': 'JETSMART AIRLINES S.A.', 'FA-MK II': 'JETSMART AIRLINES S.A.', 'CE-U-206-G': 'SERVICIOS DEL NEA S.R.L.', 'PA-PA-32-260': 'ESCUELA DE VUELO CORRIENTES', 'EL-407 GXP': 'AEROLINEAS ARGENTINAS SA', 'ST-V-77': 'AEROLINEAS ARGENTINAS SA', 'DH-PUSS': 'BAIRES FLY SA', 'BO-B737-800': 'AEROLINEAS ARGENTINAS SA', 'BE-58-P': 'ANDES LÍNEAS AÉREAS S.A.', 'TEA-P2006T': 'ESCUELA DE VUELO BA FLIGHT', 'CE-A-182-J': 'TENIL S.A.', 'EL-412-EP': 'JASFLY S.A.', 'CE-T-206-H': 'ARGENTRE ENTERPRISES LTDA.', 'AIB-A330-200': 'AEROLINEAS ARGENTINAS SA', 'PA-PA-18': 'AEROLINEAS ARGENTINAS SA', 'AIB-A-340-313': 'AEROLINEAS ARGENTINAS SA', 'LAV-PA-25-260': 'AEROLINEAS ARGENTINAS SA', 'BEL-429': 'AEROLINEAS ARGENTINAS SA', 'CE-150-H': 'SMART FLIGHT S.A', 'MT-MU-2B-36-A': 'CIELOS MEDITERRÁNEOS S.A.', 'AES-AERO 45': 'AEROLINEAS ARGENTINAS SA', 'EMB-PRAETOR 500': 'YPF AVIACION CORPORATIVA', 'HDJ-HA-420': 'ALPHACENTAURI S.A.', 'EVE-HARMONY LSA': 'ALEF AVIACION PATAGONIA S.R.L', 'PZL-PW-5': 'AEROLINEAS ARGENTINAS SA', 'AIB-A320-232': 'JETSMART AIRLINES S.A.', 'PA-PA-46R-350T': 'HANGAR UNO S.A', 'BO-B-737-76N': 'AEROLINEAS ARGENTINAS SA', 'PA-PA-28-161': 'DELTA PLANE S.R L.', 'WA-YKS-6': 'AEROLINEAS ARGENTINAS SA', 'PA-PA-25-235': 'AERO CLUB BALCARCE', 'BE-C-90': 'JOSE EDUARDO PENA', 'BEL-407': 'JASFLY S.A.', 'CE-550': 'SOCORRO MEDICO PRIVADO (VITTAL)', 'PA-PA-11': 'FERNÁNDEZ PEDRO E. Y NONIS JORGE MARTÍN', 'CE-310-D': 'FB LÍNEAS AÉREAS - FLYBONDI', 'HAB-BEECHJET-400': 'BAIRES FLY SA', 'BO-B-767-3Q8': 'LAN ARGENTINA S.A. (LATAM AIRLINES)', 'BE-B-300': 'SUNDOWN JET S.A.', 'TEA-P2002 SIERRA MK2': 'CENTRO REGIONAL DE INSTRUCCION CAÑUELAS', 'TEA-P2012 TRAVELLER': 'AEROLINEAS ARGENTINAS SA', 'AEP-AS 350 B2': 'HABOCK AVIATION ARGENTINA S.A.', 'TXA-G58': 'AVIASUR CHARTER SERVICES S.A.', 'CE-172-A': 'AEROTAX SOCIEDAD ANONIMA (PARAGUAY)', 'CE-560': 'AEROVIDA S.A.', 'RO-R66': 'LA TITI S.A.', 'CAI-480-C': 'JETSMART AIRLINES S.A.', 'BO-737-85F': 'AEROLINEAS ARGENTINAS SA', 'AIR-AT-502A': 'FB LÍNEAS AÉREAS - FLYBONDI', 'BEL-412-EP': 'FB LÍNEAS AÉREAS - FLYBONDI', 'ARH-AS-350-B3': 'POLICIA DE LA CIUDAD DE BUENOS AIRES', 'JAS-SZD-48-1': 'AEROLINEAS ARGENTINAS SA', 'PA-PA-30': 'HEROES DE MALVINAS-PROMOCION LIII', 'CE-177': 'AERONAUTICA S.A.', 'AIB-A-320-212': 'LAN ARGENTINA S.A. (LATAM AIRLINES)', 'RO-R-66': 'READY AIR HELICOPTERS S.A.', 'WA-EQC': 'AEROLINEAS ARGENTINAS SA', 'PA-PA-31-325': 'SOCORRO MEDICO PRIVADO S.A.', 'DH-DOVE-104': 'AEROLINEAS ARGENTINAS SA', 'LPA-AW169': 'SERV AEREOS SUDAMERICANOS S.A.', 'CE-182-E': 'HANGAR UNO', 'CE-150-K': 'PRO FLIGHT ACADEMY SRL', 'AB-180-RVR': 'CLUB PLANEADORES CUTRAL CO', 'ATR-ATR72-212A': 'AVIAN LINEAS AEREAS S.A. (AVIANCA)', 'LJ-45': 'AERORUTAS S.A. DE TRANSP. AER.', 'AIB-A330-243': 'AEROLINEAS ARGENTINAS SA', 'PA-PA-28-140': 'FLYING TIME', 'CE-510': 'CLASSE STELLE S.A.', 'BO-737-8AL': 'FB LÍNEAS AÉREAS - FLYBONDI', 'BE-E55': 'JETSMART AIRLINES S.A.', 'CE-177-RG': 'AEROLINEAS ARGENTINAS SA', 'CE-402': 'INTREBBIA SRL', 'CE-R-172-K': 'BANCO SAFRA S.A.', 'RO-R-44RAVEN-I': 'HELITOURS S.A.', 'BE-E-90': 'SOCORRO MEDICO PRIVADO (VITTAL)', 'CE-CE-172RG': 'CWO S.A. - SUN FLIGHT', 'CE-551': 'JUST FLIGHT  \"ROYAL CLASS\"', 'TEA-P92 EAGLET G5': 'AEROTEC S.A.', 'BO-B-737-700': 'AEROLINEAS ARGENTINAS SA', 'SLG-SLING 2': 'AERO CLUB RAFAELA', 'TXA-58': 'AEROLINEAS ARGENTINAS SA', 'AIB-A320-214': 'AVIAN LINEAS AEREAS S.A. (AVIANCA)', 'CE-172-M': 'AEROLINEAS ARGENTINAS SA', 'DJI-SO-1221-S': 'AEROLINEAS ARGENTINAS SA', 'RO-R-44 I': 'AEROLINEAS ARGENTINAS SA', 'BO-B737-86J': 'AEROLINEAS ARGENTINAS SA', 'AIB-A-330-223': 'AEROLINEAS ARGENTINAS SA', 'TXA-172M': 'AEROLINEAS ARGENTINAS SA', 'TXA-182T': 'AERONAUTICA S.A.', 'AB-95': 'AEROLINEAS ARGENTINAS SA', 'CE-175': 'JETSMART AIRLINES S.A.', 'CIR-SR-22': 'BAIRES FLY SA', 'AIB-A330-202': 'AEROLINEAS ARGENTINAS SA', 'CE-182-C': 'AEROCLUB MALARGUE', 'EMB-EMB-500': 'BRISE SERVICIOS AÉREOS S.A.', 'AG-A-109-C': 'ROTORWAY S.A.', 'CE-182-S': 'AEROLINEAS ARGENTINAS SA', 'HAW-800-XP': 'COLCAR MERBUS S.A', 'CE-210-N': 'FB LÍNEAS AÉREAS - FLYBONDI', 'PA-PA-39': 'CICA', 'BO-B-737-500': 'HANGAR UNO S.A', 'BE-58-TC': 'AEROLINEAS ARGENTINAS SA', 'RO-R-44': 'HANGAR UNO S.A', 'LJ-45-XR': 'DIRECCION GENERAL DE AVICION CIVIL CHILE', 'BE-BARON 95-B55': 'JETSMART AIRLINES S.A.', 'PA-PA-46-500TP': 'FB LÍNEAS AÉREAS - FLYBONDI', 'BE-C-90-A': 'AERONAUTICA S.A.', 'ARH-EC 130 B4': 'JETSMART AIRLINES S.A.', 'BO-B737-8': 'AEROLINEAS ARGENTINAS SA', 'CE-TR-182': 'AERORUTAS S.A. DE TRANSP. AER.', 'NC-1203-II': 'FB LÍNEAS AÉREAS - FLYBONDI', 'CE-182': 'AEROLINEAS ARGENTINAS SA', 'ULM-N-300': 'AEROLINEAS ARGENTINAS SA', 'AE-7-EC': 'AEROLINEAS ARGENTINAS SA', 'CE-C-172-M': 'RUFU', 'PA-PA-22-108': 'AERO CLUB ALLEN', 'EL-206-L-4': 'TENIL S.A.', 'LAN-IV-P': 'AEROTAX SOCIEDAD ANONIMA (PARAGUAY)', 'AET-600-A': 'AERONAUTICA S.A.', 'EMB-ERJ190100IGW': 'AEROLINEAS ARGENTINAS SA', 'BE-B-45': 'AMERICAN JET S.A.', 'MO-M-20-J': 'FB LÍNEAS AÉREAS - FLYBONDI', 'EUR-EC-135-T2': 'ESC.FEDERAL DE AVIACION POLICIAL', 'GU-G IV-X G450': 'ALAS DEL FIN DEL MUNDO S.R.L.', 'CE-525': 'JUST FLIGHT  \"ROYAL CLASS\"', 'HU-269-C': 'AEROLINEAS ARGENTINAS SA', 'CE-150-L': 'PRO FLIGHT ACADEMY SRL', 'CE-501': 'AERONAUTICA S.A.', 'CE-182-T': 'AERORUTAS S.A. DE TRANSP. AER.', 'CE-T20GH': 'ARGENTRE ENTERPRISES LTDA.', 'BO-737-8F2': 'FB LÍNEAS AÉREAS - FLYBONDI', 'TEA-P92 EAGLET': 'FLY ONE S.A', 'BE-BARON 55': 'BANCO SAFRA S.A.', 'CE-172-B': 'AERO CLUB ESCOBAR', 'PA-PA-28-181': 'HANGAR UNO S.A', 'CE-310-R': 'AEROLINEAS ARGENTINAS SA', 'TEA-P92 MKII': 'SMART FLIGHT S.A', 'CE-152-A': 'TWR SRL', 'TEA-P92 ECHO CLA': 'VOLAR S.R.L', 'AG-AB139': 'FB LÍNEAS AÉREAS - FLYBONDI', 'SOC-TBM-700': 'POLICIA DE SEGURIDAD AEROPORTUARIA', 'PAA-PA-A-28-236': 'HIGH BIRD LLC', 'BE-400-A': 'AEROLINEAS ARGENTINAS SA', 'DC-DC-9-32': 'TENIL S.A.', 'CE-A-182-L': 'ESC.FEDERAL DE AVIACION POLICIAL', 'TXI-172M': 'AERO CLUB SAN RAFAEL', 'DC-DC-3-C': 'AEROLINEAS ARGENTINAS SA', 'MC-BO-105-S': 'POLICIA DE LA CIUDAD DE BUENOS AIRES', 'BO-B-737-7BD': 'AEROLINEAS ARGENTINAS SA', 'SI-SIPA 1000': 'AEROLINEAS ARGENTINAS SA', 'CE-210': 'AMERICAN JET S.A.', 'AU-J-5G': 'FB LÍNEAS AÉREAS - FLYBONDI', 'PA-PA-18A-150': 'AEROLINEAS ARGENTINAS SA', 'IA-GUARANI G-II': 'BEECH FLYING', 'ECU-AS-350-B3': 'OFICIAL INSPECTOR MARIO E. WALLACE', 'CE-P-206-C': 'ESC.FEDERAL DE AVIACION POLICIAL', 'PA-PA-38-112': 'FLYING TIME', 'AEP-ATR-42-320': 'AMERICAN JET S.A.', 'BO-737-86N': 'FB LÍNEAS AÉREAS - FLYBONDI', 'DAS-FALCON 900EX': 'JUST FLIGHT  \"ROYAL CLASS\"', 'CE-170-B': 'AEROLINEAS ARGENTINAS SA', 'BO-737-7BD': 'AEROLINEAS ARGENTINAS SA', 'AIR-AT-802': 'HELICOPTEROS DEL PACIFICO', 'CE-310': 'AEROLINEAS ARGENTINAS SA', 'LJ-60-XR': 'AMERICAN JET S.A.', 'TEA-P-MENTOR': 'AEROTEC ARGENTINA S.A.', 'RAY-HAWKER 800XP': 'AERONAUTICA S.A.', 'EUR-EC-145': 'ESC.FEDERAL DE AVIACION POLICIAL', 'PAA-PA-A-28-161': 'ESCUELA DE VUELO CORRIENTES', 'BO-737-8K5': 'FB LÍNEAS AÉREAS - FLYBONDI', 'BE-35': 'AEROLINEAS ARGENTINAS SA', 'CE-337': 'HELICOPTEROS DEL PACIFICO', 'MAC-MB-308': 'AEROLINEAS ARGENTINAS SA', 'LJ-31': 'SERV. EMPRENDIM. AERON. S.A. (FLYZAR)', 'BOM-CL-600-2B16': 'SPECIAL FLIGHTS S.A', 'DC-DC-2': 'GOL LINHAS AÉREAS S.A.', 'AIR-AT-802A': 'AEROLINEAS ARGENTINAS SA', 'DAS-FALCON 2000': 'AERORUTAS S.A. DE TRANSP. AER.', 'BRI-312-F': 'FLEXFLY S.A.S', 'EUR-BO 105C CB-4': 'FLYING TIME', 'BL-7GCBC': 'FENIX AVIACION S.A.', 'ADE-ADELANTADA': 'AERO CLUB LA PAZ', 'CE-T-310-Q': 'BAIRES FLY SA', 'BO-737-8': 'AEROLINEAS ARGENTINAS SA', 'AIB-A330-203': 'AEROLINEAS ARGENTINAS SA', 'BE-C90GT': 'GRUPO IMAS S.A.', 'LJ-35': 'BAIRES FLY SA', 'BO-737-81D': 'AEROLINEAS ARGENTINAS SA', 'PAA-PA-A-28-181': 'HANGAR UNO S.A', 'CE-TU-206-E': 'AVIAJET S.A.', 'AMA-8K-CAB': 'DELTA PLANE S.R L.', 'EB-EL BOYERO': 'AAXOD S.A', 'CL-CL-44-6': 'CWO S.A. - SUN FLIGHT', 'CE-AA-150-L': 'FLIGHT LINE S.R.L.', 'CE-525A': 'TENIL S.A.', 'PIP-ALPHA TRAINER': 'AEROATELIER', 'FW-44-J': 'AEROLINEAS ARGENTINAS SA', 'WG-WEGA 180': 'ALTUNA FRANCISCO ALBERTO', 'EL-430': 'FLIGHT EXPRESS S.A.', 'MO-M-20-C': 'AEROLINEAS ARGENTINAS SA', 'MO-M20L': 'AEROLINEAS ARGENTINAS SA', 'APK-A-22LS': 'AERO CLUB CORDOBA', 'FA-SA-226-TC': 'DOS MIL AEROSISTEMA S.A.', 'DC-DC-9-83': 'ANDES LÍNEAS AÉREAS S.A.', 'LJ-35A': 'DOS MIL AEROSISTEMA S.A.', 'SHF-EXTRA NG': 'FB LÍNEAS AÉREAS - FLYBONDI', 'CE-560-XL': 'AEROMAX S.A.', 'BRT-BRISTELL LSA': 'CEAP - AERO CHANNEL S.R.L', 'TEA-P2002 SIERRA MKII': 'AERO CLUB SANTA FE', 'BO-B737-8SH': 'AEROLINEAS ARGENTINAS SA', 'CE-T-188-C': 'AEROLINEAS ARGENTINAS SA', 'GU-GV': 'BAIRES FLY SA', 'WSK-PZL-M18B': 'AEROLINEAS ARGENTINAS SA', 'BO-B737-8LP': 'AEROLINEAS ARGENTINAS SA', 'CE-180-A': 'AEROLINEAS ARGENTINAS SA', 'CE-210-G': 'PILOTOS FORESTALES S.A.', 'CE-180-H': 'FENIX AVIACION S.A.', 'BE-C-23': 'ELCOMEL SRL', 'PA-PA-28-200R': 'SAINT EXSUPERY SRL - EXUPERY', 'LRD-AW119MKII': 'FB LÍNEAS AÉREAS - FLYBONDI', 'CE-421-A': 'AAXOD S.A', 'CE-172-K': 'GIACOMELLI EUGENIO FAUSTINO', 'CE-206-H': 'AERO CLUB ALLEN', 'CE-170-A': 'ALAS DEL NORTE S.A.', 'PT-S-2B': 'MALATINI JORGE MARIO', 'BO-737-8SH': 'AEROLINEAS ARGENTINAS SA', 'PA-PA-31-350': 'BROKER AIR S.A.', 'CE-180': 'AEROLINEAS ARGENTINAS SA', 'CE-T210M': 'BAIRES FLY SA', 'HAB-HAWKER-900XP': 'AEROLINEAS ARGENTINAS SA', 'PA-PA-31-310': 'AERO CLUB GENERAL VILLEGAS', 'BO-737-8BK': 'AEROLINEAS ARGENTINAS SA', 'RO-R-22-MARINER': 'AEROTEC ARGENTINA S.A.', 'FA-SA-227-AC': 'FLYING AMERICA SA', 'PA-PA-34-220-T': 'HANGAR UNO S.A.', 'BE-200': 'BERTOLACCINI', 'BOM-CL-600-2B19': 'FLYEST S.A. LÍNEAS AÉREAS', 'AIB-EC135': 'ESC.FEDERAL DE AVIACION POLICIAL', 'GU-GA-7': 'FLIGHT LINE S.R.L.', 'TEA-ASTORE': 'SMART FLIGHT S.A', 'CE-680': 'AEROLINEAS ARGENTINAS SA', 'CE-208-B': 'AEROLINEAS ARGENTINAS SA', 'GRU-BABY III': 'AEROLINEAS ARGENTINAS SA', 'TEA-P92': 'AERO CLUB SAN RAFAEL', 'CE-172-H': 'AEROLINEAS ARGENTINAS SA', 'LAI-PA25-260': 'FLYING AMERICA SA', 'BO-767-316ER': 'RUFU', 'BE-B-90': 'AEROLINEAS ARGENTINAS SA', 'SH-S-25': 'AERO CLUB COMODORO RIVADAVIA', 'TXA-208B': 'ALPHACENTAURI S.A.', 'RO-R-22-BETA': 'JUST FLIGHT  \"ROYAL CLASS\"', 'PAA-PA-A-28-180': 'RUFU SOC. DE ACCIONES SIMPLIFICADA', 'BE-300-LW': 'ESCUELA DE VUELO BA FLIGHT', 'BE-BARON 58-P': 'FARGIONI MAURICIO DANIEL', 'DC-DC-9-88': 'AEROLINEAS ARGENTINAS SA', 'AIR-AT-402-B': 'JETSMART AIRLINES S.A.', 'CE-310-N': 'COLOTTI GERARDO DANIEL', 'CE-150-M': 'DELTA PLANE S.R L.', 'CE-150-F': 'JETSMART AIRLINES S.A.', 'ALO-SE-3130': 'AEROLINEAS ARGENTINAS SA', 'CE-172-P': 'AEROLINEAS ARGENTINAS SA', 'BO-737-8Q8': 'FB LÍNEAS AÉREAS - FLYBONDI', 'BE-B-200-GT': 'AERORUTAS S.A. DE TRANSP. AER.', 'DC-MD-83': 'ANDES LÍNEAS AÉREAS S.A.', 'CE-R-182': 'AEROLINEAS ARGENTINAS SA', 'AYR-S2R-G10': 'FB LÍNEAS AÉREAS - FLYBONDI', 'RW-680-FL': 'JETSMART AIRLINES S.A.', 'CE-205': 'MAIZTEGUI GUILLERMO', 'VA-RV-7': 'SANABRIA, IGNACIO', 'MO-M-20-F': 'HANGAR 3 POLO AERODEPOTIVO S.R.L.', 'LJ-LJ45': 'SUNDOWN JET S.A.', 'BO-B-737-81D': 'AEROLINEAS ARGENTINAS SA', 'LJ-60': 'BAIRES FLY SA', 'EUR-AS-350-B3': 'DIRECCION GENERAL DE AER. CBA', 'HU-269-B': 'DELTA PLANE S.R L.', 'TEA-P2002 MKII': 'FLIGHT CEM ESCUELA S.A.SIMP', 'PA-PA-34-200': 'FLY MORON- EMANUEL M. ROUQUETTE', 'BO-B737-81D': 'AEROLINEAS ARGENTINAS SA', 'CE-A-150-L': 'AERO CLUB BALCARCE', 'DH-DHC-6': 'TAPSA', 'PA-PA-24-400': 'ANDES LÍNEAS AÉREAS S.A.', 'CE-A-182-N': 'PRO FLIGHT ACADEMY SRL', 'EUR-BO-105-S': 'FLIGHT EXPRESS S.A.', 'PRP-912I': 'FLYING TIME', 'CE-172-RG': 'JETSMART AIRLINES S.A.', 'BE-C-35': 'AEROLINEAS ARGENTINAS SA', 'BO-737-8GJ': 'ANDES LÍNEAS AÉREAS S.A.', 'BE-C-17-B': 'LAN ARGENTINA S.A. (LATAM AIRLINES)', 'BE-35-A33': 'AMERICAN JET S.A.', 'CE-152': 'TWR SRL', 'CE-206': 'DIRECCION GENERAL DE AERON DE CORDOBA', 'PA-PA-28R-200': 'FLY MORON- EMANUEL M. ROUQUETTE', 'TEA-P2008-JC': 'ESCUELA DE VUELO BA FLIGHT', 'BO-PT-17': 'AEROLINEAS ARGENTINAS SA', 'BE-BEECHJET400A': 'BRISE SERVICIOS AÉREOS S.A.', 'RO-R-44-II': 'HANGAR UNO S.A', 'PA-PA-23-250': 'AEROLINEAS ARGENTINAS SA', 'BO-767-316': 'LAN ARGENTINA S.A. (LATAM AIRLINES)', 'TXA-B200GT': 'PETREL AERO SERVICIOS S.A.', 'CE-182-A': 'AEROTEC ARGENTINA S.A.', 'PRP-PETREL 912LSA': 'AERO CLUB TRELEW', 'TAN-T-31-B': 'PRO FLIGHT ACADEMY SRL', 'PAA-PA-A-38-112': 'FLYING TIME', 'BO-B737-8MB': 'AEROLINEAS ARGENTINAS SA', 'CE-182-D': 'AAXOD S.A', 'CE-210-J': 'JETSMART AIRLINES S.A.', 'BRT-LSA': 'CEAP - AERO CHANNEL S.R.L', 'CU-C-46': 'AEROLINEAS ARGENTINAS SA', 'EFL-EA 300/L': 'AEROLINEAS ARGENTINAS SA', 'BO-737-76N': 'AEROLINEAS ARGENTINAS SA', 'GR-AA5A-CHEETAH': 'AEROCLUB SANTIAGO DEL ESTERO', 'CE-182-B': 'MD HELICÓPTEROS S.A.', 'LJ-35-A': 'BAIRES FLY SA', 'BEF-F-90': 'LAER S.E.', 'FT-2': 'PILOT RENE MARCOS', 'AIR-AR 401': 'AEROLINEAS ARGENTINAS SA', 'EL-206-B': 'SOCORRO MEDICO PRIVADO (VITTAL)', 'CE-C-152': 'AEROLINEAS ARGENTINAS SA', 'BOM-BD-100-1A10': 'CHEYENNE S.A.', 'ZIP-SZD-192-A': 'AUSTRAL LINEAS AEREAS-CIELOS DEL SUR S.A', 'HI-UH-12-E-4': 'AGRO AÉREO ROBERTS S.R.L.', 'CE-172-N': 'AEROLINEAS ARGENTINAS SA', 'RO-R-44RAVEN-II': 'HANGAR UNO S.A', 'TEA-P2002JF': 'JETSMART AIRLINES S.A.', 'BE-G-36': 'FB LÍNEAS AÉREAS - FLYBONDI', 'TEA-P2010': 'AEROTEC ARGENTINA S.A.', 'BO-737-8U3': 'FB LÍNEAS AÉREAS - FLYBONDI', 'CH-BD-100-1A10': 'AMBITO AGROPECUARIO S.A.', 'HAB-C-90-A': 'FB LÍNEAS AÉREAS - FLYBONDI', 'BE-A-100': 'AVIAJET S.A.', 'CE-C-177RG': 'BANCO SAFRA S.A.', 'EL-206-L-3': 'HIDROTEC S.R.L.', 'DOR-228-202': 'AMERICAN JET S.A.', 'CE-650': 'PATAGONIAN AIR S.A.', 'PA-PA-34-200-T': 'JUST FLIGHT  \"ROYAL CLASS\"', 'CIT-SR22': 'MED AVIACION S.A.', 'LO-L-18-50': 'AEROLINEAS ARGENTINAS SA', 'LAI-PA-25-260': 'ANDES LÍNEAS AÉREAS S.A.', 'CE-A-182-K': 'AEROCLUB RECONQUISTA', 'ARH-MBB-BK117 C2': 'PRESIDENCIA DE LA NACION', 'CE-T182T': 'JETSMART AIRLINES S.A.', 'CE-P210N': 'JETSMART AIRLINES S.A.', 'ARH-MBB-BK117 D-3': 'HELICÓPTEROS MARINOS S.A.', 'PA-PA-46-350-P': 'JETSMART AIRLINES S.A.', 'GU-G-IV': 'BAIRES FLY SA', 'BE-A-36': 'SERVICIOS INTEGRALES DE AVIACION S.A.', 'BE-70': 'JETSMART AIRLINES S.A.', 'BE-1900D': 'AEROLINEAS ARGENTINAS SA', 'PA-PA-24-180': 'AEROLINEAS ARGENTINAS SA'}\n"
     ]
    }
   ],
   "source": [
    "# To fix the NaN Values of column 'Aerolinea Nombre' I am going to catch the 'Aerolinea Name' repeated the most for each 'Aeronave' value, and then fill the missing values on the column 'Aerolinea Nombre' with those.\n",
    "\n",
    "# Catching the 'Aeronave' values only where 'Aerolinea Nombre' and 'Aeronave' have real values\n",
    "plane_name = set(df[(~df['Aerolinea Nombre'].isna()) & (df['Aerolinea Nombre'] != '0') & (~df['Aeronave'].isna()) & (df['Aeronave'] != '0')]['Aeronave'])\n",
    "plane_name.remove(0)\n",
    "\n",
    "df_planes = df[(~df['Aerolinea Nombre'].isna()) & (df['Aerolinea Nombre'] != '0')]\n",
    "\n",
    "setup_planes = {}\n",
    "for plane in plane_name:\n",
    "    data_reduce = df_planes[df_planes['Aeronave'] == plane].groupby(by='Aerolinea Nombre').size().reset_index().rename(columns={0:'Quantity'})\n",
    "    max_value = data_reduce['Quantity'].idxmax()\n",
    "    max_value = data_reduce.loc[max_value, 'Aerolinea Nombre']\n",
    "    setup_planes[plane] = max_value\n",
    "\n",
    "print(setup_planes)"
   ]
  },
  {
   "cell_type": "code",
   "execution_count": 24,
   "metadata": {},
   "outputs": [],
   "source": [
    "# Fillig the missing values on 'Aerolinea Nombre' with the data from 'setup_planes' variables.\n",
    "for plane, airline in setup_planes.items():\n",
    "    df.loc[df['Aeronave'] == plane, 'Aerolinea Nombre'] = airline"
   ]
  },
  {
   "cell_type": "code",
   "execution_count": 25,
   "metadata": {},
   "outputs": [
    {
     "data": {
      "text/plain": [
       "Fecha                      0\n",
       "Hora                       0\n",
       "Clase de Vuelo             0\n",
       "Clasificación Vuelo        0\n",
       "Tipo Movimiento            0\n",
       "Aeropuerto                 0\n",
       "Origen/Destino             0\n",
       "Aerolinea Nombre       29781\n",
       "Aeronave               91661\n",
       "Pasajeros                  0\n",
       "PAX                        0\n",
       "Calidad dato               0\n",
       "dtype: int64"
      ]
     },
     "execution_count": 25,
     "metadata": {},
     "output_type": "execute_result"
    }
   ],
   "source": [
    "# Checking the NaN values\n",
    "df.isna().sum()"
   ]
  },
  {
   "cell_type": "code",
   "execution_count": 26,
   "metadata": {},
   "outputs": [
    {
     "name": "stdout",
     "output_type": "stream",
     "text": [
      "<class 'pandas.core.frame.DataFrame'>\n",
      "Index: 2155869 entries, 0 to 2155872\n",
      "Data columns (total 12 columns):\n",
      " #   Column               Dtype \n",
      "---  ------               ----- \n",
      " 0   Fecha                object\n",
      " 1   Hora                 object\n",
      " 2   Clase de Vuelo       object\n",
      " 3   Clasificación Vuelo  object\n",
      " 4   Tipo Movimiento      object\n",
      " 5   Aeropuerto           object\n",
      " 6   Origen/Destino       object\n",
      " 7   Aerolinea Nombre     object\n",
      " 8   Aeronave             object\n",
      " 9   Pasajeros            int64 \n",
      " 10  PAX                  object\n",
      " 11  Calidad dato         object\n",
      "dtypes: int64(1), object(11)\n",
      "memory usage: 213.8+ MB\n"
     ]
    }
   ],
   "source": [
    "df.info()"
   ]
  },
  {
   "cell_type": "code",
   "execution_count": 27,
   "metadata": {},
   "outputs": [],
   "source": [
    "df.dropna(inplace=True)"
   ]
  },
  {
   "cell_type": "code",
   "execution_count": 28,
   "metadata": {},
   "outputs": [
    {
     "data": {
      "text/plain": [
       "Fecha                  0\n",
       "Hora                   0\n",
       "Clase de Vuelo         0\n",
       "Clasificación Vuelo    0\n",
       "Tipo Movimiento        0\n",
       "Aeropuerto             0\n",
       "Origen/Destino         0\n",
       "Aerolinea Nombre       0\n",
       "Aeronave               0\n",
       "Pasajeros              0\n",
       "PAX                    0\n",
       "Calidad dato           0\n",
       "dtype: int64"
      ]
     },
     "execution_count": 28,
     "metadata": {},
     "output_type": "execute_result"
    }
   ],
   "source": [
    "# Checking the NaN values\n",
    "df.isna().sum()"
   ]
  },
  {
   "cell_type": "code",
   "execution_count": 29,
   "metadata": {},
   "outputs": [],
   "source": [
    "del(df['Aeronave'])\n",
    "del(df['Calidad dato'])"
   ]
  },
  {
   "cell_type": "code",
   "execution_count": 30,
   "metadata": {},
   "outputs": [
    {
     "data": {
      "text/html": [
       "<div>\n",
       "<style scoped>\n",
       "    .dataframe tbody tr th:only-of-type {\n",
       "        vertical-align: middle;\n",
       "    }\n",
       "\n",
       "    .dataframe tbody tr th {\n",
       "        vertical-align: top;\n",
       "    }\n",
       "\n",
       "    .dataframe thead th {\n",
       "        text-align: right;\n",
       "    }\n",
       "</style>\n",
       "<table border=\"1\" class=\"dataframe\">\n",
       "  <thead>\n",
       "    <tr style=\"text-align: right;\">\n",
       "      <th></th>\n",
       "      <th>Fecha</th>\n",
       "      <th>Hora</th>\n",
       "      <th>Clase de Vuelo</th>\n",
       "      <th>Clasificación Vuelo</th>\n",
       "      <th>Tipo Movimiento</th>\n",
       "      <th>Aeropuerto</th>\n",
       "      <th>Origen/Destino</th>\n",
       "      <th>Aerolinea Nombre</th>\n",
       "      <th>Pasajeros</th>\n",
       "      <th>PAX</th>\n",
       "    </tr>\n",
       "  </thead>\n",
       "  <tbody>\n",
       "    <tr>\n",
       "      <th>0</th>\n",
       "      <td>1/1/2019</td>\n",
       "      <td>00:01:00</td>\n",
       "      <td>Regular</td>\n",
       "      <td>Doméstico</td>\n",
       "      <td>Aterrizaje</td>\n",
       "      <td>EZE</td>\n",
       "      <td>SAL</td>\n",
       "      <td>AEROLINEAS ARGENTINAS SA</td>\n",
       "      <td>88</td>\n",
       "      <td>44</td>\n",
       "    </tr>\n",
       "    <tr>\n",
       "      <th>2</th>\n",
       "      <td>1/1/2019</td>\n",
       "      <td>00:03:00</td>\n",
       "      <td>Regular</td>\n",
       "      <td>Doméstico</td>\n",
       "      <td>Aterrizaje</td>\n",
       "      <td>AER</td>\n",
       "      <td>SIS</td>\n",
       "      <td>AEROLINEAS ARGENTINAS SA</td>\n",
       "      <td>22</td>\n",
       "      <td>11</td>\n",
       "    </tr>\n",
       "    <tr>\n",
       "      <th>4</th>\n",
       "      <td>1/1/2019</td>\n",
       "      <td>00:06:00</td>\n",
       "      <td>Regular</td>\n",
       "      <td>Internacional</td>\n",
       "      <td>Aterrizaje</td>\n",
       "      <td>AER</td>\n",
       "      <td>SBGR</td>\n",
       "      <td>LAN ARGENTINA S.A. (LATAM AIRLINES)</td>\n",
       "      <td>53</td>\n",
       "      <td>53</td>\n",
       "    </tr>\n",
       "    <tr>\n",
       "      <th>5</th>\n",
       "      <td>1/1/2019</td>\n",
       "      <td>00:09:00</td>\n",
       "      <td>Regular</td>\n",
       "      <td>Doméstico</td>\n",
       "      <td>Despegue</td>\n",
       "      <td>TUC</td>\n",
       "      <td>AER</td>\n",
       "      <td>LAN ARGENTINA S.A. (LATAM AIRLINES)</td>\n",
       "      <td>156</td>\n",
       "      <td>78</td>\n",
       "    </tr>\n",
       "    <tr>\n",
       "      <th>6</th>\n",
       "      <td>1/1/2019</td>\n",
       "      <td>00:11:00</td>\n",
       "      <td>Regular</td>\n",
       "      <td>Doméstico</td>\n",
       "      <td>Despegue</td>\n",
       "      <td>MDP</td>\n",
       "      <td>AER</td>\n",
       "      <td>AEROLINEAS ARGENTINAS SA</td>\n",
       "      <td>4</td>\n",
       "      <td>2</td>\n",
       "    </tr>\n",
       "  </tbody>\n",
       "</table>\n",
       "</div>"
      ],
      "text/plain": [
       "      Fecha      Hora Clase de Vuelo Clasificación Vuelo Tipo Movimiento  \\\n",
       "0  1/1/2019  00:01:00        Regular           Doméstico      Aterrizaje   \n",
       "2  1/1/2019  00:03:00        Regular           Doméstico      Aterrizaje   \n",
       "4  1/1/2019  00:06:00        Regular       Internacional      Aterrizaje   \n",
       "5  1/1/2019  00:09:00        Regular           Doméstico        Despegue   \n",
       "6  1/1/2019  00:11:00        Regular           Doméstico        Despegue   \n",
       "\n",
       "  Aeropuerto Origen/Destino                     Aerolinea Nombre  Pasajeros  \\\n",
       "0        EZE            SAL             AEROLINEAS ARGENTINAS SA         88   \n",
       "2        AER            SIS             AEROLINEAS ARGENTINAS SA         22   \n",
       "4        AER           SBGR  LAN ARGENTINA S.A. (LATAM AIRLINES)         53   \n",
       "5        TUC            AER  LAN ARGENTINA S.A. (LATAM AIRLINES)        156   \n",
       "6        MDP            AER             AEROLINEAS ARGENTINAS SA          4   \n",
       "\n",
       "  PAX  \n",
       "0  44  \n",
       "2  11  \n",
       "4  53  \n",
       "5  78  \n",
       "6   2  "
      ]
     },
     "execution_count": 30,
     "metadata": {},
     "output_type": "execute_result"
    }
   ],
   "source": [
    "df.head()"
   ]
  },
  {
   "cell_type": "code",
   "execution_count": 41,
   "metadata": {},
   "outputs": [],
   "source": [
    "if not os.path.exists('output'):\n",
    "    os.mkdir('output')\n",
    "df.to_csv('output/Data_finish.csv')"
   ]
  }
 ],
 "metadata": {
  "kernelspec": {
   "display_name": "env",
   "language": "python",
   "name": "python3"
  },
  "language_info": {
   "codemirror_mode": {
    "name": "ipython",
    "version": 3
   },
   "file_extension": ".py",
   "mimetype": "text/x-python",
   "name": "python",
   "nbconvert_exporter": "python",
   "pygments_lexer": "ipython3",
   "version": "3.11.4"
  }
 },
 "nbformat": 4,
 "nbformat_minor": 2
}
